{
 "cells": [
  {
   "cell_type": "markdown",
   "metadata": {},
   "source": [
    "# Meeting Notes\n",
    "\n",
    "\n",
    "## Jan 24th \n",
    "- Performance: Running successfully on H100 (newer than A100) on Illyad node (OACISS)\n",
    "    - Grid size 129 by 129 by 129\n",
    "    - Matrix-size 6440067 by 6440067\n",
    "    - CG (non-preconditioned): ~ 1 second \n",
    "    - Completed simulations: t = 309296 s (0.1 year), total time ~ 2hs, job killed \n",
    "    - Potential speed with MGCG 100x\n",
    "    - Expected total simulation time for 10 years of simulation 2 hs ~ 10 hs\n",
    "\n",
    "- TODO: \n",
    "    - Fix output for shear stress (currently all zero values, bugs?)\n",
    "    - Determine what values should we have for u3\n",
    "    - Determine output formats\n"
   ]
  },
  {
   "cell_type": "code",
   "execution_count": null,
   "metadata": {},
   "outputs": [],
   "source": []
  }
 ],
 "metadata": {
  "kernelspec": {
   "display_name": "Julia 1.9.4",
   "language": "julia",
   "name": "julia-1.9"
  },
  "language_info": {
   "file_extension": ".jl",
   "mimetype": "application/julia",
   "name": "julia",
   "version": "1.9.4"
  }
 },
 "nbformat": 4,
 "nbformat_minor": 2
}
