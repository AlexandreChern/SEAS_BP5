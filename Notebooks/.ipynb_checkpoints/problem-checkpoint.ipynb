{
 "cells": [
  {
   "cell_type": "markdown",
   "metadata": {},
   "source": [
    "## Problem Formulation"
   ]
  },
  {
   "attachments": {},
   "cell_type": "markdown",
   "metadata": {},
   "source": [
    "## 3D Problem Setup\n",
    "### Visualization\n",
    "\n",
    "\n",
    "\n",
    "### Governing Equations\n",
    "\n",
    "$$\\rho \\frac{\\partial^2{u}}{\\partial^2{t}} = \\nabla \\sigma$$\n",
    "\n",
    "In this equation, $u$ has three components $u_1$, $u_2$ and $u_3$, and $\\sigma$ is a rank-2 tensor\n",
    "\n",
    "Hook's law in 3D\n",
    "\n",
    "$$\\sigma_{ij} = K \\epsilon_{kk} \\delta_{ij} + 2\\mu (\\epsilon_{ij} - \\frac{1}{3}\\epsilon_{kk}\\delta_{ij})$$\n",
    "\n",
    "$K$ is bulk modulus and $\\mu$ is shear modulus.\n",
    "The strain-displacement relations are given by\n",
    "$$\\epsilon_{ij} = \\frac{1}{2}[\\frac{\\partial u_i}{\\partial u_j} + \\frac{\\partial u_j}{\\partial u_i}]$$\n",
    "And summation convention: $$\\epsilon_{kk} = \\epsilon_{11} + \\epsilon_{22} + \\epsilon_{33} = (\\frac{\\partial u_1}{\\partial x_1} + \\frac{\\partial u_2}{\\partial x_2} + \\frac{\\partial u_3}{\\partial x_3})$$"
   ]
  },
  {
   "cell_type": "markdown",
   "metadata": {},
   "source": [
    "## Deriving values for $\\sigma$ tensor\n",
    "\n",
    "$$\\sigma_{11} = K\\epsilon_{kk} + 2\\mu (\\epsilon_{11} - \\frac{1}{3}\\epsilon_{kk}) = (K - \\frac{2}{3}\\mu)( \\frac{\\partial u_1}{\\partial x_1} + \\frac{\\partial u_2}{\\partial x_2} + \\frac{\\partial u_3}{\\partial x_3}) + 2\\mu \\frac{\\partial u_1}{\\partial x_1}$$ \n",
    "\n",
    "$$\\sigma_{12} = 2\\mu \\epsilon_{12} = \\mu(\\frac{\\partial u_1}{\\partial x_2} + \\frac{\\partial u_2}{\\partial x_1})$$\n",
    "$$\\sigma_{13} = 2\\mu \\epsilon_{13} = \\mu(\\frac{\\partial u_1}{\\partial x_3} + \\frac{\\partial u_3}{\\partial x_1})$$\n",
    "\n",
    "<br/><br/>\n",
    "\n",
    "$$\\sigma_{21} = 2\\mu \\epsilon_{21} = \\mu(\\frac{\\partial u_2}{\\partial x_1} + \\frac{\\partial u_1}{\\partial x_2})$$\n",
    "\n",
    "$$\\sigma_{22} = K\\epsilon_{kk} + 2\\mu (\\epsilon_{22} - \\frac{1}{3}\\epsilon_{kk}) = (K - \\frac{2}{3}\\mu)( \\frac{\\partial u_1}{\\partial x_1} + \\frac{\\partial u_2}{\\partial x_2} + \\frac{\\partial u_3}{\\partial x_3}) + 2\\mu \\frac{\\partial u_2}{\\partial x_2}$$ \n",
    "$$\\sigma_{23} = 2\\mu \\epsilon_{13} = \\mu(\\frac{\\partial u_2}{\\partial x_3} + \\frac{\\partial u_3}{\\partial x_2})$$\n",
    "\n",
    "<br/><br/>\n",
    "\n",
    "$$\\sigma_{31} = 2\\mu \\epsilon_{31} = \\mu(\\frac{\\partial u_3}{\\partial x_1} + \\frac{\\partial u_1}{\\partial x_3})$$\n",
    "$$\\sigma_{32} = 2\\mu \\epsilon_{32} = \\mu(\\frac{\\partial u_3}{\\partial x_2} + \\frac{\\partial u_2}{\\partial x_3})$$\n",
    "$$\\sigma_{33} = K\\epsilon_{kk} + 2\\mu (\\epsilon_{33} - \\frac{1}{3}\\epsilon_{kk}) = (K - \\frac{2}{3}\\mu)( \\frac{\\partial u_1}{\\partial x_1} + \\frac{\\partial u_2}{\\partial x_2} + \\frac{\\partial u_3}{\\partial x_3}) + 2\\mu \\frac{\\partial u_3}{\\partial x_3}$$ "
   ]
  },
  {
   "cell_type": "markdown",
   "metadata": {},
   "source": [
    "## Deriving components for the PDE\n",
    "\n",
    "### Equation for $u_1$\n",
    "\n",
    "$$\\rho \\frac{\\partial^2{u_1}}{\\partial{t^2}} = \\frac{\\partial \\sigma_{11}}{\\partial x_1} + \\frac{\\partial \\sigma_{12}}{\\partial x_{2}} + \\frac{\\partial \\sigma_{13}}{\\partial x_{3}}$$\n",
    "$$\\rho \\frac{\\partial^2{u_1}}{\\partial{t^2}} = (K - \\frac{2}{3}\\mu)( \\frac{\\partial^2 u_1}{\\partial x_1^2} + \\frac{\\partial^2 u_2}{\\partial x_1 \\partial x_2} + \\frac{\\partial^2 u_3}{\\partial x_1 \\partial x_3}) + 2\\mu \\frac{\\partial^2u_1}{\\partial x_1^2} \n",
    "+ \\mu(\\frac{\\partial^2 u_1}{\\partial x_2^2} + \\frac{\\partial^2u_2}{\\partial x_2 \\partial x_1})\n",
    "+ \\mu(\\frac{\\partial^2 u_1}{\\partial x_3^2} + \\frac{\\partial^2u_3}{\\partial x_3 \\partial x_1})$$\n",
    "\n",
    "### Equation for $u_2$\n",
    "$$\\rho \\frac{\\partial^2{u_2}}{\\partial{t^2}} = \\frac{\\partial \\sigma_{21}}{\\partial x_1} + \\frac{\\partial \\sigma_{22}}{\\partial x_{2}} + \\frac{\\partial \\sigma_{23}}{\\partial x_{3}}$$\n",
    "\n",
    "$$\\rho \\frac{\\partial^2{u_2}}{\\partial{t^2}} = \n",
    "\\mu(\\frac{\\partial^2u_2}{\\partial x_1^2} + \\frac{\\partial^2 u_1}{\\partial x_1 \\partial x_2})\n",
    "+ (K - \\frac{2}{3}\\mu)( \\frac{\\partial^2 u_1}{\\partial x_2 \\partial x_1} + \\frac{\\partial^2 u_2}{\\partial x_2^2} + \\frac{\\partial^2 u_3}{\\partial x_2 \\partial x_3}) + 2\\mu \\frac{\\partial^2u_2}{\\partial x_2^2} \n",
    "+ \\mu(\\frac{\\partial^2u_2}{\\partial x_3^2} + \\frac{\\partial^2 u_3}{\\partial x_3 \\partial x_2})\n",
    "$$\n",
    "\n",
    "### Equation for $u_3$\n",
    "$$\\rho \\frac{\\partial^2{u_3}}{\\partial{t^2}} = \\frac{\\partial \\sigma_{31}}{\\partial x_1} + \\frac{\\partial \\sigma_{32}}{\\partial x_{2}} + \\frac{\\partial \\sigma_{33}}{\\partial x_{3}}$$\n",
    "\n",
    "$$\\rho \\frac{\\partial^2{u_3}}{\\partial{t^2}} = \n",
    "\\mu(\\frac{\\partial^2u_3}{\\partial x_1^2} + \\frac{\\partial^2 u_1}{\\partial x_1 \\partial x_3}) \n",
    "+ \\mu(\\frac{\\partial^2 u_3}{\\partial x_2^2} + \\frac{\\partial^2u_2}{\\partial x_2 \\partial x_3})\n",
    "+ (K - \\frac{2}{3}\\mu)( \\frac{\\partial^2 u_1}{\\partial x_3 \\partial x_1} + \\frac{\\partial^2 u_2}{\\partial x_3 \\partial x_2} + \\frac{\\partial^2 u_3}{\\partial x_3^2}) + 2\\mu \\frac{\\partial^2u_3}{\\partial x_3^2} \n",
    "$$"
   ]
  },
  {
   "attachments": {},
   "cell_type": "markdown",
   "metadata": {},
   "source": [
    "## Deriving values for SAT terms"
   ]
  },
  {
   "cell_type": "code",
   "execution_count": 1,
   "metadata": {},
   "outputs": [],
   "source": [
    "using LinearAlgebra"
   ]
  },
  {
   "attachments": {},
   "cell_type": "markdown",
   "metadata": {},
   "source": [
    "### SAT Terms for $u_1$ \n"
   ]
  },
  {
   "cell_type": "markdown",
   "metadata": {},
   "source": []
  }
 ],
 "metadata": {
  "kernelspec": {
   "display_name": "Julia 1.7.2",
   "language": "julia",
   "name": "julia-1.7"
  },
  "language_info": {
   "file_extension": ".jl",
   "mimetype": "application/julia",
   "name": "julia",
   "version": "1.7.2"
  }
 },
 "nbformat": 4,
 "nbformat_minor": 2
}
