{
 "cells": [
  {
   "cell_type": "markdown",
   "metadata": {},
   "source": [
    "# Reading Notes Thrase.jl"
   ]
  },
  {
   "cell_type": "code",
   "execution_count": 5,
   "metadata": {},
   "outputs": [],
   "source": [
    "using DifferentialEquations"
   ]
  },
  {
   "cell_type": "code",
   "execution_count": 3,
   "metadata": {},
   "outputs": [],
   "source": [
    "# bdry_vec_mod!()\n",
    "# F matrices are associated with imposing boundary conditions\n",
    "# HfI_FT matrices are associated with computing traction\n",
    "\n",
    "# G1 = -(Iz ⊗ ex0T) * Sx0 \n",
    "# G2 = +(Iz ⊗ exNT) * SxN \n",
    "# G3 = -(ez0T ⊗ Ix) * Sz0\n",
    "# G4 = +(ezNT ⊗ Ix) * SzN\n",
    "\n",
    "# F1 = G1' - ((τ1 * H1) ⊗ ex0)\n",
    "# F2 = G2' - ((τ2 * H2) ⊗ exN)\n",
    "# F3 = G3' - (ez0 ⊗ (τ3 * H3))\n",
    "# F4 = G4' - (ezN ⊗ (τ4 * H4))\n",
    "\n",
    "\n",
    "# HfI_F1T = H1I * G1 - (τ1 ⊗ ex0')\n",
    "# HfI_F2T = H2I * G2 - (τ2 ⊗ exN')\n",
    "# HfI_F3T = H3I * G3 - (ez0' ⊗ τ3)\n",
    "# HfI_F4T = H4I * G4 - (ezN' ⊗ τ4)\n",
    "\n",
    "# g[:] .= 0\n",
    "\n",
    "# # FACE 1 (Dirichlet):\n",
    "# vf = bc_Dirichlet(1, 0, z)\n",
    "# g[:] -= F[1] * vf\n",
    "\n",
    "# # FACE 2 (Dirichlet):\n",
    "# vf = bc_Dirichlet(2, Lx, z)\n",
    "# g[:] -= F[2] * vf\n",
    "\n",
    "# # FACE 3 (Neumann):\n",
    "# gN = bc_Neumann(3, x, 0, 0, -1)\n",
    "# vf = gN  ./ diag(τ[3])\n",
    "# g[:] -= F[3] * vf\n",
    "\n",
    "# # FACE 4 (Neumann):\n",
    "# gN = bc_Neumann(4, x, Lz, 0, 1)\n",
    "# vf = gN  ./ diag(τ[4])\n",
    "# g[:] -= F[4] * vf "
   ]
  },
  {
   "cell_type": "code",
   "execution_count": null,
   "metadata": {},
   "outputs": [],
   "source": [
    "cb_fun = SavingCallback(\n",
    "    (ψδ, t, i) -> write_to_file(pth, ψδ, t, i, z, flt_loc, flt_loc_indices,station_strings, station_indices, odeparam, \"BP1_\", 0.1 * year_seconds), \n",
    "    SavedValues(Float64, Float64)\n",
    ")\n"
   ]
  },
  {
   "cell_type": "code",
   "execution_count": 1,
   "metadata": {},
   "outputs": [
    {
     "data": {
      "text/plain": [
       "write_to_file (generic function with 3 methods)"
      ]
     },
     "metadata": {},
     "output_type": "display_data"
    }
   ],
   "source": [
    "function write_to_file(pth, ψδ, t, i, zf, flt_loc, flt_loc_indices, station_strings, station_indices, p, base_name=\"\", tdump=100)\n",
    "    \n",
    "    # i: integrator\n",
    "    path_to_slip = pth * \"slip.dat\"\n",
    "    Vmax = 0.0\n",
    "  \n",
    "    if isdefined(i,:fsallast) \n",
    "      δNp = p.δNp\n",
    "      Nz = p.N\n",
    "      dψV = i.fsallast\n",
    "      dψ = @view dψV[1:δNp]\n",
    "      V = @view dψV[δNp .+ (1:Nz+1)]\n",
    "      Vmax = maximum(abs.(extrema(V)))\n",
    "      δ = @view ψδ[δNp .+ (1:Nz+1)]\n",
    "      ψ = @view ψδ[1:δNp]\n",
    "      τf = p.τf\n",
    "    \n",
    "   \n",
    "      θ = (p.RSDc * exp.((ψ .- p.RSf0) ./ p.RSb)) / p.RSV0  # Invert ψ for θ.\n",
    "    \n",
    "      if mod(ctr[], p.save_stride_fields) == 0 || t == (sim_years ./ 31556926)\n",
    "        vv = Array{Float64}(undef, 1, 2+length(flt_loc))\n",
    "        vv[1] = t\n",
    "        vv[2] = log10(Vmax)\n",
    "        vv[3:end] = δ[flt_loc_indices]\n",
    "        open(path_to_slip, \"a\") do io\n",
    "          writedlm(io, vv)\n",
    "        end\n",
    "  \n",
    "        for i = 1:length(station_indices)\n",
    "          ww = Array{Float64}(undef, 1, 5)\n",
    "          ww[1] = t\n",
    "          ww[2] = δ[station_indices[i]]\n",
    "          ww[3] = log10(V[station_indices[i]])\n",
    "          ww[4] = τf[station_indices[i]]\n",
    "          ww[5] = log10(θ[station_indices[i]])\n",
    "  \n",
    "          XXX = pth * \"fltst_strk\"*station_strings[i]*\".txt\"\n",
    "          open(XXX, \"a\") do io\n",
    "              writedlm(io, ww)\n",
    "          end\n",
    "        end\n",
    "        \n",
    "      end\n",
    "    \n",
    "      global ctr[] += 1\n",
    "    end\n",
    "  \n",
    "    Vmax\n",
    "  end"
   ]
  },
  {
   "cell_type": "code",
   "execution_count": 1,
   "metadata": {},
   "outputs": [
    {
     "data": {
      "text/plain": [
       "create_text_files (generic function with 1 method)"
      ]
     },
     "metadata": {},
     "output_type": "display_data"
    }
   ],
   "source": [
    "function create_text_files(pth, flt_loc, flt_loc_indices, stations, station_strings, station_indices, t, RSVinit, δ, τz0, θ)\n",
    "\n",
    "\n",
    "    path_to_slip = pth * \"slip.dat\"\n",
    "    # slip.dat is a file that stores time, max(V) and slip at all the stations:\n",
    "    open(path_to_slip, \"w\") do io\n",
    "      write(io,\"0.0 0.0 \")\n",
    "        for i in 1:length(flt_loc)\n",
    "          write(io,\"$(flt_loc[i]) \")\n",
    "        end\n",
    "          write(io,\"\\n\")\n",
    "      end\n",
    "    \n",
    "    #write out initial data into devol.txt:\n",
    "    vv = Array{Float64}(undef, 1, 2+length(flt_loc))\n",
    "      vv[1] = t\n",
    "      vv[2] = log10(RSVinit)\n",
    "      vv[3:end] = δ[flt_loc_indices]\n",
    "      open(path_to_slip, \"a\") do io\n",
    "          writedlm(io, vv)\n",
    "      end\n",
    "  \n",
    "    # write out initial data into station files:\n",
    "  \n",
    "    # fltst_dpXXX.txt is a file that stores time and time-series of slip, log10(slip_rate), \n",
    "    # shear_stress and log10(state) at depth of z = XXX km, where XXX is each of the fault station depths.\n",
    "    # First we write out initial data into each fltst_dpXXX.txt:\n",
    "  \n",
    "    for n = 1:length(station_strings)\n",
    "      XXX = pth * \"fltst_strk\"*station_strings[n]*\".txt\"\n",
    "      ww = Array{Float64}(undef, 1, 5)\n",
    "      ww[1] = t\n",
    "      ww[2] = δ[station_indices[n]]\n",
    "      ww[3] = log10(RSVinit)\n",
    "      ww[4] = τz0\n",
    "      ww[5] = log10(θ[station_indices[n]])  # \n",
    "      open(XXX, \"w\") do io\n",
    "        write(io, \"# problem=SEAS Benchmark BP1-QD\\n\")  # \n",
    "        write(io, \"# code=Thrase\\n\")\n",
    "        write(io, \"# modeler=B. A. Erickson\\n\")\n",
    "        write(io, \"# date=2023/01/09\\n\")\n",
    "        write(io, \"# element size=xx m\\n\")\n",
    "        write(io, \"# location=on fault, z = \"*string(parse(Int64, station_strings[n])/10)*\" km\\n\")\n",
    "        write(io, \"# Lz = 40 km\\n\")\n",
    "        write(io, \"t slip slip_rate shear_stress state\\n\")\n",
    "  \n",
    "        writedlm(io, ww)\n",
    "      end\n",
    "    end\n",
    "  \n",
    "  end"
   ]
  },
  {
   "cell_type": "code",
   "execution_count": null,
   "metadata": {},
   "outputs": [],
   "source": []
  }
 ],
 "metadata": {
  "kernelspec": {
   "display_name": "Julia 1.9.4",
   "language": "julia",
   "name": "julia-1.9"
  },
  "language_info": {
   "file_extension": ".jl",
   "mimetype": "application/julia",
   "name": "julia",
   "version": "1.9.4"
  }
 },
 "nbformat": 4,
 "nbformat_minor": 2
}
