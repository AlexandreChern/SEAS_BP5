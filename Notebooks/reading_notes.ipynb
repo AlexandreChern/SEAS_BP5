{
 "cells": [
  {
   "cell_type": "markdown",
   "metadata": {},
   "source": [
    "# Reading Notes Thrase.jl"
   ]
  },
  {
   "cell_type": "code",
   "execution_count": 5,
   "metadata": {},
   "outputs": [],
   "source": [
    "using DifferentialEquations"
   ]
  },
  {
   "cell_type": "code",
   "execution_count": 3,
   "metadata": {},
   "outputs": [],
   "source": [
    "# bdry_vec_mod!()\n",
    "# F matrices are associated with imposing boundary conditions\n",
    "# HfI_FT matrices are associated with computing traction\n",
    "\n",
    "# G1 = -(Iz ⊗ ex0T) * Sx0 \n",
    "# G2 = +(Iz ⊗ exNT) * SxN \n",
    "# G3 = -(ez0T ⊗ Ix) * Sz0\n",
    "# G4 = +(ezNT ⊗ Ix) * SzN\n",
    "\n",
    "# F1 = G1' - ((τ1 * H1) ⊗ ex0)\n",
    "# F2 = G2' - ((τ2 * H2) ⊗ exN)\n",
    "# F3 = G3' - (ez0 ⊗ (τ3 * H3))\n",
    "# F4 = G4' - (ezN ⊗ (τ4 * H4))\n",
    "\n",
    "\n",
    "# HfI_F1T = H1I * G1 - (τ1 ⊗ ex0')\n",
    "# HfI_F2T = H2I * G2 - (τ2 ⊗ exN')\n",
    "# HfI_F3T = H3I * G3 - (ez0' ⊗ τ3)\n",
    "# HfI_F4T = H4I * G4 - (ezN' ⊗ τ4)\n",
    "\n",
    "# g[:] .= 0\n",
    "\n",
    "# # FACE 1 (Dirichlet):\n",
    "# vf = bc_Dirichlet(1, 0, z)\n",
    "# g[:] -= F[1] * vf\n",
    "\n",
    "# # FACE 2 (Dirichlet):\n",
    "# vf = bc_Dirichlet(2, Lx, z)\n",
    "# g[:] -= F[2] * vf\n",
    "\n",
    "# # FACE 3 (Neumann):\n",
    "# gN = bc_Neumann(3, x, 0, 0, -1)\n",
    "# vf = gN  ./ diag(τ[3])\n",
    "# g[:] -= F[3] * vf\n",
    "\n",
    "# # FACE 4 (Neumann):\n",
    "# gN = bc_Neumann(4, x, Lz, 0, 1)\n",
    "# vf = gN  ./ diag(τ[4])\n",
    "# g[:] -= F[4] * vf "
   ]
  },
  {
   "cell_type": "code",
   "execution_count": null,
   "metadata": {},
   "outputs": [],
   "source": [
    "cb_fun = SavingCallback(\n",
    "    (ψδ, t, i) -> write_to_file(pth, ψδ, t, i, z, flt_loc, flt_loc_indices,station_strings, station_indices, odeparam, \"BP1_\", 0.1 * year_seconds), \n",
    "    SavedValues(Float64, Float64)\n",
    ")\n"
   ]
  },
  {
   "cell_type": "code",
   "execution_count": null,
   "metadata": {},
   "outputs": [],
   "source": []
  }
 ],
 "metadata": {
  "kernelspec": {
   "display_name": "Julia 1.9.4",
   "language": "julia",
   "name": "julia-1.9"
  },
  "language_info": {
   "file_extension": ".jl",
   "mimetype": "application/julia",
   "name": "julia",
   "version": "1.9.4"
  }
 },
 "nbformat": 4,
 "nbformat_minor": 2
}
